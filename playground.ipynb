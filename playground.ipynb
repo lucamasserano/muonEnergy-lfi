{
 "cells": [
  {
   "cell_type": "code",
   "execution_count": 1,
   "metadata": {},
   "outputs": [],
   "source": [
    "%config Completer.use_jedi = False\n",
    "\n",
    "import h5py\n",
    "import numpy as np\n",
    "import json"
   ]
  },
  {
   "cell_type": "code",
   "execution_count": 2,
   "metadata": {},
   "outputs": [
    {
     "data": {
      "text/plain": [
       "<KeysViewHDF5 ['E', 'hl_x', 'meta', 'y']>"
      ]
     },
     "execution_count": 2,
     "metadata": {},
     "output_type": "execute_result"
    }
   ],
   "source": [
    "file = h5py.File('/Users/lucamasserano/Desktop/uni/cmu/ada/ada_code/data/1.hdf5', 'r')\n",
    "file.keys()"
   ]
  },
  {
   "cell_type": "markdown",
   "metadata": {},
   "source": [
    "## True energy"
   ]
  },
  {
   "cell_type": "code",
   "execution_count": 3,
   "metadata": {},
   "outputs": [
    {
     "data": {
      "text/plain": [
       "<HDF5 dataset \"y\": shape (1200,), type \"<f4\">"
      ]
     },
     "execution_count": 3,
     "metadata": {},
     "output_type": "execute_result"
    }
   ],
   "source": [
    "true_nrg = file['y']\n",
    "true_nrg"
   ]
  },
  {
   "cell_type": "code",
   "execution_count": 4,
   "metadata": {},
   "outputs": [
    {
     "data": {
      "text/plain": [
       "655.69965"
      ]
     },
     "execution_count": 4,
     "metadata": {},
     "output_type": "execute_result"
    }
   ],
   "source": [
    "true_nrg[0]"
   ]
  },
  {
   "cell_type": "markdown",
   "metadata": {},
   "source": [
    "## High level features (obsolete version, now done in C++)"
   ]
  },
  {
   "cell_type": "code",
   "execution_count": 5,
   "metadata": {},
   "outputs": [
    {
     "data": {
      "text/plain": [
       "<HDF5 dataset \"hl_x\": shape (1200, 7), type \"<f4\">"
      ]
     },
     "execution_count": 5,
     "metadata": {},
     "output_type": "execute_result"
    }
   ],
   "source": [
    "hl_feats = file['hl_x']\n",
    "hl_feats"
   ]
  },
  {
   "cell_type": "code",
   "execution_count": 6,
   "metadata": {},
   "outputs": [
    {
     "data": {
      "text/plain": [
       "array([8.8310101e+02, 9.5349579e+02, 5.2524761e+03, 1.6910354e+04,\n",
       "       3.8697146e+03, 5.7824880e-01, 7.8367944e+00], dtype=float32)"
      ]
     },
     "execution_count": 6,
     "metadata": {},
     "output_type": "execute_result"
    }
   ],
   "source": [
    "hl_feats[0]"
   ]
  },
  {
   "cell_type": "markdown",
   "metadata": {},
   "source": [
    "## Muons hits"
   ]
  },
  {
   "cell_type": "markdown",
   "metadata": {},
   "source": [
    "Dimensions: (muon, calorimeter, z-cell, x-cell, y-cell). <br>\n",
    "The dimension named 'calorimeter' apparently is just a *box* containing the actual grid "
   ]
  },
  {
   "cell_type": "code",
   "execution_count": 7,
   "metadata": {},
   "outputs": [
    {
     "data": {
      "text/plain": [
       "<HDF5 dataset \"E\": shape (1200, 1, 50, 32, 32), type \"<f4\">"
      ]
     },
     "execution_count": 7,
     "metadata": {},
     "output_type": "execute_result"
    }
   ],
   "source": [
    "hits = file['E']\n",
    "hits"
   ]
  },
  {
   "cell_type": "markdown",
   "metadata": {},
   "source": [
    "#### Features V[0] and V[1]"
   ]
  },
  {
   "cell_type": "code",
   "execution_count": 8,
   "metadata": {},
   "outputs": [
    {
     "data": {
      "text/plain": [
       "(50, 32, 32)"
      ]
     },
     "execution_count": 8,
     "metadata": {},
     "output_type": "execute_result"
    }
   ],
   "source": [
    "hits[0][0].shape"
   ]
  },
  {
   "cell_type": "code",
   "execution_count": 9,
   "metadata": {},
   "outputs": [
    {
     "data": {
      "text/plain": [
       "(array([ 0,  0,  0, ..., 49, 49, 49]),\n",
       " array([ 0,  0,  0, ..., 31, 31, 31]),\n",
       " array([ 0,  1,  2, ..., 29, 30, 31]))"
      ]
     },
     "execution_count": 9,
     "metadata": {},
     "output_type": "execute_result"
    }
   ],
   "source": [
    "np.where(hits[0][0] <= 0.1)"
   ]
  },
  {
   "cell_type": "code",
   "execution_count": 10,
   "metadata": {},
   "outputs": [
    {
     "data": {
      "text/plain": [
       "1.6827272"
      ]
     },
     "execution_count": 10,
     "metadata": {},
     "output_type": "execute_result"
    }
   ],
   "source": [
    "np.sum(hits[0][0][np.where(hits[0][0] > 0.1)])# + np.sum(hits[0][0][np.where(hits[0][0] > 0.1)])"
   ]
  },
  {
   "cell_type": "code",
   "execution_count": 11,
   "metadata": {},
   "outputs": [
    {
     "data": {
      "text/plain": [
       "(1200,)"
      ]
     },
     "execution_count": 11,
     "metadata": {},
     "output_type": "execute_result"
    }
   ],
   "source": [
    "hits[()].squeeze().sum(axis=(1,2,3), where=(hits[()].squeeze() > 0.1)).shape"
   ]
  },
  {
   "cell_type": "code",
   "execution_count": 12,
   "metadata": {},
   "outputs": [
    {
     "data": {
      "text/plain": [
       "(1200, 50, 32, 32)"
      ]
     },
     "execution_count": 12,
     "metadata": {},
     "output_type": "execute_result"
    }
   ],
   "source": [
    "hits[()].squeeze().squeeze().shape"
   ]
  },
  {
   "cell_type": "code",
   "execution_count": 13,
   "metadata": {},
   "outputs": [
    {
     "data": {
      "text/plain": [
       "[2, 3, 4]"
      ]
     },
     "execution_count": 13,
     "metadata": {},
     "output_type": "execute_result"
    }
   ],
   "source": [
    "list(range(len(hits.shape)))[-3:]"
   ]
  },
  {
   "cell_type": "code",
   "execution_count": 14,
   "metadata": {},
   "outputs": [
    {
     "data": {
      "text/plain": [
       "7.836794"
      ]
     },
     "execution_count": 14,
     "metadata": {},
     "output_type": "execute_result"
    }
   ],
   "source": [
    "hits[0][0].sum(axis=(0,1,2))"
   ]
  },
  {
   "cell_type": "markdown",
   "metadata": {},
   "source": [
    "## Metadata"
   ]
  },
  {
   "cell_type": "code",
   "execution_count": 15,
   "metadata": {},
   "outputs": [
    {
     "data": {
      "text/plain": [
       "{'e_mean': 0.000518606039858202,\n",
       " 'e_sum': 31863.155088887936,\n",
       " 'e_square_sum': 188868.6728268921,\n",
       " 'len': 1200,\n",
       " 'hl_feats': ['sume2rz_0',\n",
       "  'sume2rz_1',\n",
       "  'sume2rz_2',\n",
       "  'sume2rz_3',\n",
       "  'sume2rz_4',\n",
       "  'rmom',\n",
       "  'esum'],\n",
       " 'hl_mean': [6001.090446607977,\n",
       "  7430.592034116686,\n",
       "  8066.831258693412,\n",
       "  7832.179394274016,\n",
       "  7573.081590550582,\n",
       "  0.7213336141548932,\n",
       "  26.552629240739922],\n",
       " 'hl_sum': [7201308.535929573,\n",
       "  8916710.440940022,\n",
       "  9680197.510432094,\n",
       "  9398615.273128819,\n",
       "  9087697.908660699,\n",
       "  865.6003369858718,\n",
       "  31863.155088887906],\n",
       " 'hl_square_sum': [123383767717.06184,\n",
       "  163792438507.3064,\n",
       "  201351317940.6949,\n",
       "  186933638557.56647,\n",
       "  186802666204.0862,\n",
       "  866.4390811842718,\n",
       "  6586960.255155739]}"
      ]
     },
     "execution_count": 15,
     "metadata": {},
     "output_type": "execute_result"
    }
   ],
   "source": [
    "metadata = json.loads(file['meta'][()])\n",
    "metadata"
   ]
  },
  {
   "cell_type": "markdown",
   "metadata": {},
   "source": [
    "## Muon 16 features"
   ]
  },
  {
   "cell_type": "code",
   "execution_count": 16,
   "metadata": {},
   "outputs": [],
   "source": [
    "import pandas as pd\n",
    "import seaborn as sns\n",
    "import pylab as plt\n",
    "from tqdm import tqdm\n",
    "import os\n",
    "\n",
    "import sys\n",
    "sys.path.append('../muon_regression/')"
   ]
  },
  {
   "cell_type": "code",
   "execution_count": 18,
   "metadata": {
    "scrolled": true
   },
   "outputs": [],
   "source": [
    "from scripts import prep_data"
   ]
  },
  {
   "cell_type": "code",
   "execution_count": 19,
   "metadata": {},
   "outputs": [],
   "source": [
    "data = pd.read_csv('./data/MuEloss_N396000_em0.1.asc', \n",
    "                   sep=' ', header=None,\n",
    "                   names=[f'v[{i}]' for i in range(0, 16)] + ['true_energy'],\n",
    "                   dtype=np.float128)"
   ]
  },
  {
   "cell_type": "code",
   "execution_count": 20,
   "metadata": {},
   "outputs": [
    {
     "data": {
      "text/html": [
       "<div>\n",
       "<style scoped>\n",
       "    .dataframe tbody tr th:only-of-type {\n",
       "        vertical-align: middle;\n",
       "    }\n",
       "\n",
       "    .dataframe tbody tr th {\n",
       "        vertical-align: top;\n",
       "    }\n",
       "\n",
       "    .dataframe thead th {\n",
       "        text-align: right;\n",
       "    }\n",
       "</style>\n",
       "<table border=\"1\" class=\"dataframe\">\n",
       "  <thead>\n",
       "    <tr style=\"text-align: right;\">\n",
       "      <th></th>\n",
       "      <th>v[0]</th>\n",
       "      <th>v[1]</th>\n",
       "      <th>v[2]</th>\n",
       "      <th>v[3]</th>\n",
       "      <th>v[4]</th>\n",
       "      <th>v[5]</th>\n",
       "      <th>v[6]</th>\n",
       "      <th>v[7]</th>\n",
       "      <th>v[8]</th>\n",
       "      <th>v[9]</th>\n",
       "      <th>v[10]</th>\n",
       "      <th>v[11]</th>\n",
       "      <th>v[12]</th>\n",
       "      <th>v[13]</th>\n",
       "      <th>v[14]</th>\n",
       "      <th>v[15]</th>\n",
       "      <th>true_energy</th>\n",
       "    </tr>\n",
       "  </thead>\n",
       "  <tbody>\n",
       "    <tr>\n",
       "      <th>0</th>\n",
       "      <td>1.68273</td>\n",
       "      <td>6.15407</td>\n",
       "      <td>0.578249</td>\n",
       "      <td>1.269930</td>\n",
       "      <td>123.0730</td>\n",
       "      <td>46.68700</td>\n",
       "      <td>53.8146</td>\n",
       "      <td>144.41300</td>\n",
       "      <td>154.2800</td>\n",
       "      <td>104.0630</td>\n",
       "      <td>1.0</td>\n",
       "      <td>5.0</td>\n",
       "      <td>0.970702</td>\n",
       "      <td>3.0</td>\n",
       "      <td>3.0</td>\n",
       "      <td>0.442111</td>\n",
       "      <td>655.700</td>\n",
       "    </tr>\n",
       "    <tr>\n",
       "      <th>1</th>\n",
       "      <td>0.22672</td>\n",
       "      <td>3.22143</td>\n",
       "      <td>1.506160</td>\n",
       "      <td>1.407130</td>\n",
       "      <td>93.6621</td>\n",
       "      <td>4.45421</td>\n",
       "      <td>62.9253</td>\n",
       "      <td>37.83110</td>\n",
       "      <td>144.4230</td>\n",
       "      <td>136.3770</td>\n",
       "      <td>1.0</td>\n",
       "      <td>2.0</td>\n",
       "      <td>0.226720</td>\n",
       "      <td>0.0</td>\n",
       "      <td>0.0</td>\n",
       "      <td>0.000000</td>\n",
       "      <td>136.523</td>\n",
       "    </tr>\n",
       "    <tr>\n",
       "      <th>2</th>\n",
       "      <td>4.75289</td>\n",
       "      <td>9.47245</td>\n",
       "      <td>1.025090</td>\n",
       "      <td>0.150712</td>\n",
       "      <td>205.4830</td>\n",
       "      <td>630.37700</td>\n",
       "      <td>187.4360</td>\n",
       "      <td>147.50700</td>\n",
       "      <td>188.6130</td>\n",
       "      <td>174.3480</td>\n",
       "      <td>1.0</td>\n",
       "      <td>6.0</td>\n",
       "      <td>1.688000</td>\n",
       "      <td>5.0</td>\n",
       "      <td>4.0</td>\n",
       "      <td>1.251760</td>\n",
       "      <td>702.982</td>\n",
       "    </tr>\n",
       "    <tr>\n",
       "      <th>3</th>\n",
       "      <td>18.28610</td>\n",
       "      <td>15.39850</td>\n",
       "      <td>0.589862</td>\n",
       "      <td>0.355303</td>\n",
       "      <td>177.0400</td>\n",
       "      <td>174.67700</td>\n",
       "      <td>172.9010</td>\n",
       "      <td>153.49300</td>\n",
       "      <td>156.0430</td>\n",
       "      <td>321.6490</td>\n",
       "      <td>1.0</td>\n",
       "      <td>33.0</td>\n",
       "      <td>14.621800</td>\n",
       "      <td>6.0</td>\n",
       "      <td>6.0</td>\n",
       "      <td>1.304280</td>\n",
       "      <td>1536.120</td>\n",
       "    </tr>\n",
       "    <tr>\n",
       "      <th>4</th>\n",
       "      <td>6.80569</td>\n",
       "      <td>9.03234</td>\n",
       "      <td>0.933928</td>\n",
       "      <td>0.546600</td>\n",
       "      <td>159.8110</td>\n",
       "      <td>6.22464</td>\n",
       "      <td>118.5770</td>\n",
       "      <td>149.95700</td>\n",
       "      <td>340.8290</td>\n",
       "      <td>95.4652</td>\n",
       "      <td>1.0</td>\n",
       "      <td>17.0</td>\n",
       "      <td>6.159160</td>\n",
       "      <td>2.0</td>\n",
       "      <td>2.0</td>\n",
       "      <td>0.502743</td>\n",
       "      <td>1062.760</td>\n",
       "    </tr>\n",
       "    <tr>\n",
       "      <th>...</th>\n",
       "      <td>...</td>\n",
       "      <td>...</td>\n",
       "      <td>...</td>\n",
       "      <td>...</td>\n",
       "      <td>...</td>\n",
       "      <td>...</td>\n",
       "      <td>...</td>\n",
       "      <td>...</td>\n",
       "      <td>...</td>\n",
       "      <td>...</td>\n",
       "      <td>...</td>\n",
       "      <td>...</td>\n",
       "      <td>...</td>\n",
       "      <td>...</td>\n",
       "      <td>...</td>\n",
       "      <td>...</td>\n",
       "      <td>...</td>\n",
       "    </tr>\n",
       "    <tr>\n",
       "      <th>395995</th>\n",
       "      <td>47.43600</td>\n",
       "      <td>0.00000</td>\n",
       "      <td>0.573455</td>\n",
       "      <td>0.573455</td>\n",
       "      <td>175.5570</td>\n",
       "      <td>132.90900</td>\n",
       "      <td>185.6510</td>\n",
       "      <td>184.41300</td>\n",
       "      <td>100.8120</td>\n",
       "      <td>225.8470</td>\n",
       "      <td>1.0</td>\n",
       "      <td>289.0</td>\n",
       "      <td>1.636290</td>\n",
       "      <td>662.0</td>\n",
       "      <td>902.0</td>\n",
       "      <td>2.233330</td>\n",
       "      <td>1002.870</td>\n",
       "    </tr>\n",
       "    <tr>\n",
       "      <th>395996</th>\n",
       "      <td>7.23727</td>\n",
       "      <td>0.00000</td>\n",
       "      <td>0.905068</td>\n",
       "      <td>0.905068</td>\n",
       "      <td>121.6890</td>\n",
       "      <td>62.08430</td>\n",
       "      <td>75.9965</td>\n",
       "      <td>258.74200</td>\n",
       "      <td>98.0651</td>\n",
       "      <td>137.1370</td>\n",
       "      <td>1.0</td>\n",
       "      <td>839.0</td>\n",
       "      <td>6.739440</td>\n",
       "      <td>10.0</td>\n",
       "      <td>400.0</td>\n",
       "      <td>0.017752</td>\n",
       "      <td>920.702</td>\n",
       "    </tr>\n",
       "    <tr>\n",
       "      <th>395997</th>\n",
       "      <td>9.98190</td>\n",
       "      <td>0.00000</td>\n",
       "      <td>0.877561</td>\n",
       "      <td>0.877561</td>\n",
       "      <td>186.7020</td>\n",
       "      <td>34.92040</td>\n",
       "      <td>194.0400</td>\n",
       "      <td>9.71442</td>\n",
       "      <td>224.1320</td>\n",
       "      <td>68.8687</td>\n",
       "      <td>1.0</td>\n",
       "      <td>40.0</td>\n",
       "      <td>0.067988</td>\n",
       "      <td>57.0</td>\n",
       "      <td>368.0</td>\n",
       "      <td>0.676978</td>\n",
       "      <td>696.027</td>\n",
       "    </tr>\n",
       "    <tr>\n",
       "      <th>395998</th>\n",
       "      <td>4.50558</td>\n",
       "      <td>0.00000</td>\n",
       "      <td>0.865484</td>\n",
       "      <td>0.865484</td>\n",
       "      <td>95.1507</td>\n",
       "      <td>65.58240</td>\n",
       "      <td>43.3061</td>\n",
       "      <td>134.84000</td>\n",
       "      <td>133.0310</td>\n",
       "      <td>45.1880</td>\n",
       "      <td>1.0</td>\n",
       "      <td>529.0</td>\n",
       "      <td>4.209100</td>\n",
       "      <td>12.0</td>\n",
       "      <td>268.0</td>\n",
       "      <td>0.016958</td>\n",
       "      <td>266.856</td>\n",
       "    </tr>\n",
       "    <tr>\n",
       "      <th>395999</th>\n",
       "      <td>13.01950</td>\n",
       "      <td>0.00000</td>\n",
       "      <td>0.389980</td>\n",
       "      <td>0.389980</td>\n",
       "      <td>158.0580</td>\n",
       "      <td>46.62950</td>\n",
       "      <td>244.2340</td>\n",
       "      <td>153.52400</td>\n",
       "      <td>135.3270</td>\n",
       "      <td>141.2360</td>\n",
       "      <td>1.0</td>\n",
       "      <td>76.0</td>\n",
       "      <td>0.253895</td>\n",
       "      <td>148.0</td>\n",
       "      <td>506.0</td>\n",
       "      <td>1.505020</td>\n",
       "      <td>1633.750</td>\n",
       "    </tr>\n",
       "  </tbody>\n",
       "</table>\n",
       "<p>396000 rows × 17 columns</p>\n",
       "</div>"
      ],
      "text/plain": [
       "            v[0]      v[1]      v[2]      v[3]      v[4]       v[5]      v[6]  \\\n",
       "0        1.68273   6.15407  0.578249  1.269930  123.0730   46.68700   53.8146   \n",
       "1        0.22672   3.22143  1.506160  1.407130   93.6621    4.45421   62.9253   \n",
       "2        4.75289   9.47245  1.025090  0.150712  205.4830  630.37700  187.4360   \n",
       "3       18.28610  15.39850  0.589862  0.355303  177.0400  174.67700  172.9010   \n",
       "4        6.80569   9.03234  0.933928  0.546600  159.8110    6.22464  118.5770   \n",
       "...          ...       ...       ...       ...       ...        ...       ...   \n",
       "395995  47.43600   0.00000  0.573455  0.573455  175.5570  132.90900  185.6510   \n",
       "395996   7.23727   0.00000  0.905068  0.905068  121.6890   62.08430   75.9965   \n",
       "395997   9.98190   0.00000  0.877561  0.877561  186.7020   34.92040  194.0400   \n",
       "395998   4.50558   0.00000  0.865484  0.865484   95.1507   65.58240   43.3061   \n",
       "395999  13.01950   0.00000  0.389980  0.389980  158.0580   46.62950  244.2340   \n",
       "\n",
       "             v[7]      v[8]      v[9]  v[10]  v[11]      v[12]  v[13]  v[14]  \\\n",
       "0       144.41300  154.2800  104.0630    1.0    5.0   0.970702    3.0    3.0   \n",
       "1        37.83110  144.4230  136.3770    1.0    2.0   0.226720    0.0    0.0   \n",
       "2       147.50700  188.6130  174.3480    1.0    6.0   1.688000    5.0    4.0   \n",
       "3       153.49300  156.0430  321.6490    1.0   33.0  14.621800    6.0    6.0   \n",
       "4       149.95700  340.8290   95.4652    1.0   17.0   6.159160    2.0    2.0   \n",
       "...           ...       ...       ...    ...    ...        ...    ...    ...   \n",
       "395995  184.41300  100.8120  225.8470    1.0  289.0   1.636290  662.0  902.0   \n",
       "395996  258.74200   98.0651  137.1370    1.0  839.0   6.739440   10.0  400.0   \n",
       "395997    9.71442  224.1320   68.8687    1.0   40.0   0.067988   57.0  368.0   \n",
       "395998  134.84000  133.0310   45.1880    1.0  529.0   4.209100   12.0  268.0   \n",
       "395999  153.52400  135.3270  141.2360    1.0   76.0   0.253895  148.0  506.0   \n",
       "\n",
       "           v[15]  true_energy  \n",
       "0       0.442111      655.700  \n",
       "1       0.000000      136.523  \n",
       "2       1.251760      702.982  \n",
       "3       1.304280     1536.120  \n",
       "4       0.502743     1062.760  \n",
       "...          ...          ...  \n",
       "395995  2.233330     1002.870  \n",
       "395996  0.017752      920.702  \n",
       "395997  0.676978      696.027  \n",
       "395998  0.016958      266.856  \n",
       "395999  1.505020     1633.750  \n",
       "\n",
       "[396000 rows x 17 columns]"
      ]
     },
     "execution_count": 20,
     "metadata": {},
     "output_type": "execute_result"
    }
   ],
   "source": [
    "data"
   ]
  },
  {
   "cell_type": "markdown",
   "metadata": {},
   "source": [
    "### APPARENTLY THEY LOSE FLOAT PRECISION WHEN WRITING TO CSV! \n",
    "<b> E.G.: true_nrg[0] = 655.7 != 655.69965\n",
    "    \n",
    "Or maybe they lose it when passing through the C++ macro\n",
    "    --> UPDATE: it seems that the C++ macro is ok. The problem is in ROOT itself: when it reads directly a root file, it collapses precision. Try loading the macro in ROOT and showing the first entry. It is already 655.7 and not 655.69965"
   ]
  },
  {
   "cell_type": "markdown",
   "metadata": {},
   "source": [
    "<b> On average, roughly every three observation two are equal"
   ]
  },
  {
   "cell_type": "code",
   "execution_count": 94,
   "metadata": {},
   "outputs": [
    {
     "data": {
      "text/plain": [
       "257744"
      ]
     },
     "execution_count": 94,
     "metadata": {},
     "output_type": "execute_result"
    }
   ],
   "source": [
    "len(data.groupby('true_energy'))"
   ]
  },
  {
   "cell_type": "code",
   "execution_count": 95,
   "metadata": {},
   "outputs": [
    {
     "data": {
      "text/plain": [
       "396000"
      ]
     },
     "execution_count": 95,
     "metadata": {},
     "output_type": "execute_result"
    }
   ],
   "source": [
    "len(data)"
   ]
  },
  {
   "cell_type": "markdown",
   "metadata": {},
   "source": [
    "### ADD true_energy FROM HDF5 (WHICH HAS FULL PRECISION) "
   ]
  },
  {
   "cell_type": "markdown",
   "metadata": {},
   "source": [
    "#### Read all root files into hdf5 and extract all true energies"
   ]
  },
  {
   "cell_type": "code",
   "execution_count": 33,
   "metadata": {},
   "outputs": [
    {
     "name": "stderr",
     "output_type": "stream",
     "text": [
      "100%|██████████| 330/330 [59:06<00:00, 10.75s/it] \n"
     ]
    }
   ],
   "source": [
    "with open('./use_files.txt', 'r') as usefiles:\n",
    "    for file in tqdm(list(sorted(usefiles.read().split('\\n')[:-1]))):\n",
    "        prep_data.singleroot_to_hdf5(in_file=file, out_file=f'./data/hdf5/{file[42:][:-5]}.hdf5', write=True)"
   ]
  },
  {
   "cell_type": "code",
   "execution_count": 21,
   "metadata": {},
   "outputs": [],
   "source": [
    "correct_energies = []\n",
    "for filename in sorted(sorted(os.listdir('./data/hdf5/'))[1:], key=lambda el: int(el[:-5])):\n",
    "    file_hdf5 = h5py.File(f'./data/hdf5/{filename}', 'r')\n",
    "    correct_energies.append(file_hdf5['y'][:])"
   ]
  },
  {
   "cell_type": "code",
   "execution_count": 22,
   "metadata": {},
   "outputs": [],
   "source": [
    "correct_energies = np.vstack(correct_energies).reshape(-1)"
   ]
  },
  {
   "cell_type": "code",
   "execution_count": 23,
   "metadata": {},
   "outputs": [],
   "source": [
    "data['correct_true_energy'] = correct_energies"
   ]
  },
  {
   "cell_type": "code",
   "execution_count": 24,
   "metadata": {},
   "outputs": [
    {
     "data": {
      "text/html": [
       "<div>\n",
       "<style scoped>\n",
       "    .dataframe tbody tr th:only-of-type {\n",
       "        vertical-align: middle;\n",
       "    }\n",
       "\n",
       "    .dataframe tbody tr th {\n",
       "        vertical-align: top;\n",
       "    }\n",
       "\n",
       "    .dataframe thead th {\n",
       "        text-align: right;\n",
       "    }\n",
       "</style>\n",
       "<table border=\"1\" class=\"dataframe\">\n",
       "  <thead>\n",
       "    <tr style=\"text-align: right;\">\n",
       "      <th></th>\n",
       "      <th>v[0]</th>\n",
       "      <th>v[1]</th>\n",
       "      <th>v[2]</th>\n",
       "      <th>v[3]</th>\n",
       "      <th>v[4]</th>\n",
       "      <th>v[5]</th>\n",
       "      <th>v[6]</th>\n",
       "      <th>v[7]</th>\n",
       "      <th>v[8]</th>\n",
       "      <th>v[9]</th>\n",
       "      <th>v[10]</th>\n",
       "      <th>v[11]</th>\n",
       "      <th>v[12]</th>\n",
       "      <th>v[13]</th>\n",
       "      <th>v[14]</th>\n",
       "      <th>v[15]</th>\n",
       "      <th>true_energy</th>\n",
       "      <th>correct_true_energy</th>\n",
       "    </tr>\n",
       "  </thead>\n",
       "  <tbody>\n",
       "    <tr>\n",
       "      <th>150000</th>\n",
       "      <td>6.84788</td>\n",
       "      <td>0.0</td>\n",
       "      <td>0.889322</td>\n",
       "      <td>0.889322</td>\n",
       "      <td>125.105</td>\n",
       "      <td>8.47112</td>\n",
       "      <td>135.3200</td>\n",
       "      <td>161.056</td>\n",
       "      <td>116.8650</td>\n",
       "      <td>111.380</td>\n",
       "      <td>1.0</td>\n",
       "      <td>876.0</td>\n",
       "      <td>6.400980</td>\n",
       "      <td>14.0</td>\n",
       "      <td>345.0</td>\n",
       "      <td>0.020013</td>\n",
       "      <td>664.744</td>\n",
       "      <td>664.744324</td>\n",
       "    </tr>\n",
       "    <tr>\n",
       "      <th>150001</th>\n",
       "      <td>8.51662</td>\n",
       "      <td>0.0</td>\n",
       "      <td>0.223191</td>\n",
       "      <td>0.223191</td>\n",
       "      <td>135.577</td>\n",
       "      <td>68.03220</td>\n",
       "      <td>76.3752</td>\n",
       "      <td>181.892</td>\n",
       "      <td>144.8110</td>\n",
       "      <td>184.549</td>\n",
       "      <td>1.0</td>\n",
       "      <td>25.0</td>\n",
       "      <td>0.065307</td>\n",
       "      <td>84.0</td>\n",
       "      <td>349.0</td>\n",
       "      <td>0.621097</td>\n",
       "      <td>915.738</td>\n",
       "      <td>915.738403</td>\n",
       "    </tr>\n",
       "    <tr>\n",
       "      <th>150002</th>\n",
       "      <td>10.01820</td>\n",
       "      <td>0.0</td>\n",
       "      <td>0.718253</td>\n",
       "      <td>0.718253</td>\n",
       "      <td>141.403</td>\n",
       "      <td>72.01520</td>\n",
       "      <td>159.8880</td>\n",
       "      <td>142.407</td>\n",
       "      <td>99.3925</td>\n",
       "      <td>198.044</td>\n",
       "      <td>1.0</td>\n",
       "      <td>89.0</td>\n",
       "      <td>0.198149</td>\n",
       "      <td>202.0</td>\n",
       "      <td>509.0</td>\n",
       "      <td>0.712468</td>\n",
       "      <td>819.639</td>\n",
       "      <td>819.639282</td>\n",
       "    </tr>\n",
       "    <tr>\n",
       "      <th>150003</th>\n",
       "      <td>24.15480</td>\n",
       "      <td>0.0</td>\n",
       "      <td>0.869094</td>\n",
       "      <td>0.869094</td>\n",
       "      <td>157.541</td>\n",
       "      <td>168.60900</td>\n",
       "      <td>175.4710</td>\n",
       "      <td>149.807</td>\n",
       "      <td>184.9460</td>\n",
       "      <td>111.165</td>\n",
       "      <td>1.0</td>\n",
       "      <td>89.0</td>\n",
       "      <td>0.172297</td>\n",
       "      <td>167.0</td>\n",
       "      <td>724.0</td>\n",
       "      <td>0.202956</td>\n",
       "      <td>1161.770</td>\n",
       "      <td>1161.768188</td>\n",
       "    </tr>\n",
       "    <tr>\n",
       "      <th>150004</th>\n",
       "      <td>29.94690</td>\n",
       "      <td>0.0</td>\n",
       "      <td>0.783768</td>\n",
       "      <td>0.783768</td>\n",
       "      <td>179.765</td>\n",
       "      <td>35.17800</td>\n",
       "      <td>142.4740</td>\n",
       "      <td>192.991</td>\n",
       "      <td>151.6140</td>\n",
       "      <td>197.931</td>\n",
       "      <td>1.0</td>\n",
       "      <td>259.0</td>\n",
       "      <td>0.598028</td>\n",
       "      <td>468.0</td>\n",
       "      <td>656.0</td>\n",
       "      <td>3.381360</td>\n",
       "      <td>1475.870</td>\n",
       "      <td>1475.867310</td>\n",
       "    </tr>\n",
       "    <tr>\n",
       "      <th>...</th>\n",
       "      <td>...</td>\n",
       "      <td>...</td>\n",
       "      <td>...</td>\n",
       "      <td>...</td>\n",
       "      <td>...</td>\n",
       "      <td>...</td>\n",
       "      <td>...</td>\n",
       "      <td>...</td>\n",
       "      <td>...</td>\n",
       "      <td>...</td>\n",
       "      <td>...</td>\n",
       "      <td>...</td>\n",
       "      <td>...</td>\n",
       "      <td>...</td>\n",
       "      <td>...</td>\n",
       "      <td>...</td>\n",
       "      <td>...</td>\n",
       "      <td>...</td>\n",
       "    </tr>\n",
       "    <tr>\n",
       "      <th>150995</th>\n",
       "      <td>12.37290</td>\n",
       "      <td>0.0</td>\n",
       "      <td>0.232080</td>\n",
       "      <td>0.232080</td>\n",
       "      <td>159.833</td>\n",
       "      <td>89.92970</td>\n",
       "      <td>45.8028</td>\n",
       "      <td>193.364</td>\n",
       "      <td>135.9910</td>\n",
       "      <td>223.383</td>\n",
       "      <td>1.0</td>\n",
       "      <td>81.0</td>\n",
       "      <td>0.266184</td>\n",
       "      <td>347.0</td>\n",
       "      <td>580.0</td>\n",
       "      <td>1.913070</td>\n",
       "      <td>1822.450</td>\n",
       "      <td>1822.451904</td>\n",
       "    </tr>\n",
       "    <tr>\n",
       "      <th>150996</th>\n",
       "      <td>8.36316</td>\n",
       "      <td>0.0</td>\n",
       "      <td>0.808258</td>\n",
       "      <td>0.808258</td>\n",
       "      <td>127.131</td>\n",
       "      <td>147.08700</td>\n",
       "      <td>126.8060</td>\n",
       "      <td>142.648</td>\n",
       "      <td>58.1920</td>\n",
       "      <td>108.403</td>\n",
       "      <td>1.0</td>\n",
       "      <td>27.0</td>\n",
       "      <td>0.020092</td>\n",
       "      <td>15.0</td>\n",
       "      <td>414.0</td>\n",
       "      <td>0.021234</td>\n",
       "      <td>590.608</td>\n",
       "      <td>590.607727</td>\n",
       "    </tr>\n",
       "    <tr>\n",
       "      <th>150997</th>\n",
       "      <td>26.09350</td>\n",
       "      <td>0.0</td>\n",
       "      <td>0.404762</td>\n",
       "      <td>0.404762</td>\n",
       "      <td>155.140</td>\n",
       "      <td>141.21900</td>\n",
       "      <td>144.8430</td>\n",
       "      <td>165.170</td>\n",
       "      <td>176.6930</td>\n",
       "      <td>140.209</td>\n",
       "      <td>1.0</td>\n",
       "      <td>138.0</td>\n",
       "      <td>0.882840</td>\n",
       "      <td>638.0</td>\n",
       "      <td>877.0</td>\n",
       "      <td>4.721230</td>\n",
       "      <td>1827.710</td>\n",
       "      <td>1827.712036</td>\n",
       "    </tr>\n",
       "    <tr>\n",
       "      <th>150998</th>\n",
       "      <td>22.45530</td>\n",
       "      <td>0.0</td>\n",
       "      <td>0.973750</td>\n",
       "      <td>0.973750</td>\n",
       "      <td>173.460</td>\n",
       "      <td>73.50150</td>\n",
       "      <td>73.2588</td>\n",
       "      <td>212.434</td>\n",
       "      <td>97.2388</td>\n",
       "      <td>292.527</td>\n",
       "      <td>1.0</td>\n",
       "      <td>141.0</td>\n",
       "      <td>0.263073</td>\n",
       "      <td>585.0</td>\n",
       "      <td>499.0</td>\n",
       "      <td>4.771330</td>\n",
       "      <td>955.221</td>\n",
       "      <td>955.220825</td>\n",
       "    </tr>\n",
       "    <tr>\n",
       "      <th>150999</th>\n",
       "      <td>9.34431</td>\n",
       "      <td>0.0</td>\n",
       "      <td>0.058510</td>\n",
       "      <td>0.058510</td>\n",
       "      <td>128.442</td>\n",
       "      <td>166.39800</td>\n",
       "      <td>71.3186</td>\n",
       "      <td>156.333</td>\n",
       "      <td>35.0217</td>\n",
       "      <td>105.780</td>\n",
       "      <td>1.0</td>\n",
       "      <td>43.0</td>\n",
       "      <td>0.070852</td>\n",
       "      <td>22.0</td>\n",
       "      <td>334.0</td>\n",
       "      <td>0.034385</td>\n",
       "      <td>376.929</td>\n",
       "      <td>376.929413</td>\n",
       "    </tr>\n",
       "  </tbody>\n",
       "</table>\n",
       "<p>1000 rows × 18 columns</p>\n",
       "</div>"
      ],
      "text/plain": [
       "            v[0]  v[1]      v[2]      v[3]     v[4]       v[5]      v[6]  \\\n",
       "150000   6.84788   0.0  0.889322  0.889322  125.105    8.47112  135.3200   \n",
       "150001   8.51662   0.0  0.223191  0.223191  135.577   68.03220   76.3752   \n",
       "150002  10.01820   0.0  0.718253  0.718253  141.403   72.01520  159.8880   \n",
       "150003  24.15480   0.0  0.869094  0.869094  157.541  168.60900  175.4710   \n",
       "150004  29.94690   0.0  0.783768  0.783768  179.765   35.17800  142.4740   \n",
       "...          ...   ...       ...       ...      ...        ...       ...   \n",
       "150995  12.37290   0.0  0.232080  0.232080  159.833   89.92970   45.8028   \n",
       "150996   8.36316   0.0  0.808258  0.808258  127.131  147.08700  126.8060   \n",
       "150997  26.09350   0.0  0.404762  0.404762  155.140  141.21900  144.8430   \n",
       "150998  22.45530   0.0  0.973750  0.973750  173.460   73.50150   73.2588   \n",
       "150999   9.34431   0.0  0.058510  0.058510  128.442  166.39800   71.3186   \n",
       "\n",
       "           v[7]      v[8]     v[9]  v[10]  v[11]     v[12]  v[13]  v[14]  \\\n",
       "150000  161.056  116.8650  111.380    1.0  876.0  6.400980   14.0  345.0   \n",
       "150001  181.892  144.8110  184.549    1.0   25.0  0.065307   84.0  349.0   \n",
       "150002  142.407   99.3925  198.044    1.0   89.0  0.198149  202.0  509.0   \n",
       "150003  149.807  184.9460  111.165    1.0   89.0  0.172297  167.0  724.0   \n",
       "150004  192.991  151.6140  197.931    1.0  259.0  0.598028  468.0  656.0   \n",
       "...         ...       ...      ...    ...    ...       ...    ...    ...   \n",
       "150995  193.364  135.9910  223.383    1.0   81.0  0.266184  347.0  580.0   \n",
       "150996  142.648   58.1920  108.403    1.0   27.0  0.020092   15.0  414.0   \n",
       "150997  165.170  176.6930  140.209    1.0  138.0  0.882840  638.0  877.0   \n",
       "150998  212.434   97.2388  292.527    1.0  141.0  0.263073  585.0  499.0   \n",
       "150999  156.333   35.0217  105.780    1.0   43.0  0.070852   22.0  334.0   \n",
       "\n",
       "           v[15]  true_energy  correct_true_energy  \n",
       "150000  0.020013      664.744           664.744324  \n",
       "150001  0.621097      915.738           915.738403  \n",
       "150002  0.712468      819.639           819.639282  \n",
       "150003  0.202956     1161.770          1161.768188  \n",
       "150004  3.381360     1475.870          1475.867310  \n",
       "...          ...          ...                  ...  \n",
       "150995  1.913070     1822.450          1822.451904  \n",
       "150996  0.021234      590.608           590.607727  \n",
       "150997  4.721230     1827.710          1827.712036  \n",
       "150998  4.771330      955.221           955.220825  \n",
       "150999  0.034385      376.929           376.929413  \n",
       "\n",
       "[1000 rows x 18 columns]"
      ]
     },
     "execution_count": 24,
     "metadata": {},
     "output_type": "execute_result"
    }
   ],
   "source": [
    "data.iloc[150000:151000,:]"
   ]
  },
  {
   "cell_type": "markdown",
   "metadata": {},
   "source": [
    "### There are still some duplicates!"
   ]
  },
  {
   "cell_type": "code",
   "execution_count": 29,
   "metadata": {},
   "outputs": [
    {
     "data": {
      "text/plain": [
       "392613"
      ]
     },
     "execution_count": 29,
     "metadata": {},
     "output_type": "execute_result"
    }
   ],
   "source": [
    "len(data.correct_true_energy.unique())"
   ]
  },
  {
   "cell_type": "code",
   "execution_count": 26,
   "metadata": {},
   "outputs": [
    {
     "data": {
      "text/html": [
       "<div>\n",
       "<style scoped>\n",
       "    .dataframe tbody tr th:only-of-type {\n",
       "        vertical-align: middle;\n",
       "    }\n",
       "\n",
       "    .dataframe tbody tr th {\n",
       "        vertical-align: top;\n",
       "    }\n",
       "\n",
       "    .dataframe thead th {\n",
       "        text-align: right;\n",
       "    }\n",
       "</style>\n",
       "<table border=\"1\" class=\"dataframe\">\n",
       "  <thead>\n",
       "    <tr style=\"text-align: right;\">\n",
       "      <th></th>\n",
       "      <th>v[0]</th>\n",
       "      <th>v[1]</th>\n",
       "      <th>v[2]</th>\n",
       "      <th>v[3]</th>\n",
       "      <th>v[4]</th>\n",
       "      <th>v[5]</th>\n",
       "      <th>v[6]</th>\n",
       "      <th>v[7]</th>\n",
       "      <th>v[8]</th>\n",
       "      <th>v[9]</th>\n",
       "      <th>v[10]</th>\n",
       "      <th>v[11]</th>\n",
       "      <th>v[12]</th>\n",
       "      <th>v[13]</th>\n",
       "      <th>v[14]</th>\n",
       "      <th>v[15]</th>\n",
       "      <th>true_energy</th>\n",
       "      <th>correct_true_energy</th>\n",
       "    </tr>\n",
       "  </thead>\n",
       "  <tbody>\n",
       "    <tr>\n",
       "      <th>14282</th>\n",
       "      <td>0.28499</td>\n",
       "      <td>3.14892</td>\n",
       "      <td>1.850860</td>\n",
       "      <td>0.393191</td>\n",
       "      <td>52.6928</td>\n",
       "      <td>40.42330</td>\n",
       "      <td>39.5912</td>\n",
       "      <td>0.787409</td>\n",
       "      <td>103.7560</td>\n",
       "      <td>18.5160</td>\n",
       "      <td>1.0</td>\n",
       "      <td>1.0</td>\n",
       "      <td>0.151489</td>\n",
       "      <td>1.0</td>\n",
       "      <td>1.0</td>\n",
       "      <td>0.133501</td>\n",
       "      <td>129.963</td>\n",
       "      <td>129.963470</td>\n",
       "    </tr>\n",
       "    <tr>\n",
       "      <th>219775</th>\n",
       "      <td>3.71440</td>\n",
       "      <td>0.00000</td>\n",
       "      <td>2.002930</td>\n",
       "      <td>2.002930</td>\n",
       "      <td>85.5209</td>\n",
       "      <td>24.55350</td>\n",
       "      <td>24.0221</td>\n",
       "      <td>144.026000</td>\n",
       "      <td>52.3162</td>\n",
       "      <td>110.8110</td>\n",
       "      <td>1.0</td>\n",
       "      <td>299.0</td>\n",
       "      <td>3.479390</td>\n",
       "      <td>6.0</td>\n",
       "      <td>220.0</td>\n",
       "      <td>0.024965</td>\n",
       "      <td>129.963</td>\n",
       "      <td>129.963470</td>\n",
       "    </tr>\n",
       "    <tr>\n",
       "      <th>302843</th>\n",
       "      <td>5.18890</td>\n",
       "      <td>0.00000</td>\n",
       "      <td>0.731363</td>\n",
       "      <td>0.731363</td>\n",
       "      <td>117.9590</td>\n",
       "      <td>3.46006</td>\n",
       "      <td>155.4280</td>\n",
       "      <td>182.635000</td>\n",
       "      <td>21.2636</td>\n",
       "      <td>34.1255</td>\n",
       "      <td>1.0</td>\n",
       "      <td>601.0</td>\n",
       "      <td>4.922920</td>\n",
       "      <td>13.0</td>\n",
       "      <td>209.0</td>\n",
       "      <td>0.011896</td>\n",
       "      <td>138.718</td>\n",
       "      <td>138.718475</td>\n",
       "    </tr>\n",
       "    <tr>\n",
       "      <th>70374</th>\n",
       "      <td>6.16174</td>\n",
       "      <td>0.00000</td>\n",
       "      <td>0.455881</td>\n",
       "      <td>0.455881</td>\n",
       "      <td>100.1040</td>\n",
       "      <td>87.22480</td>\n",
       "      <td>85.8626</td>\n",
       "      <td>73.418600</td>\n",
       "      <td>43.3046</td>\n",
       "      <td>136.3620</td>\n",
       "      <td>1.0</td>\n",
       "      <td>733.0</td>\n",
       "      <td>5.898810</td>\n",
       "      <td>7.0</td>\n",
       "      <td>257.0</td>\n",
       "      <td>0.011714</td>\n",
       "      <td>138.718</td>\n",
       "      <td>138.718475</td>\n",
       "    </tr>\n",
       "    <tr>\n",
       "      <th>280070</th>\n",
       "      <td>4.21296</td>\n",
       "      <td>0.00000</td>\n",
       "      <td>1.279220</td>\n",
       "      <td>1.279220</td>\n",
       "      <td>81.3125</td>\n",
       "      <td>72.25420</td>\n",
       "      <td>158.1910</td>\n",
       "      <td>15.157600</td>\n",
       "      <td>20.8813</td>\n",
       "      <td>90.8563</td>\n",
       "      <td>1.0</td>\n",
       "      <td>441.0</td>\n",
       "      <td>3.987260</td>\n",
       "      <td>9.0</td>\n",
       "      <td>219.0</td>\n",
       "      <td>0.016223</td>\n",
       "      <td>139.460</td>\n",
       "      <td>139.459991</td>\n",
       "    </tr>\n",
       "    <tr>\n",
       "      <th>...</th>\n",
       "      <td>...</td>\n",
       "      <td>...</td>\n",
       "      <td>...</td>\n",
       "      <td>...</td>\n",
       "      <td>...</td>\n",
       "      <td>...</td>\n",
       "      <td>...</td>\n",
       "      <td>...</td>\n",
       "      <td>...</td>\n",
       "      <td>...</td>\n",
       "      <td>...</td>\n",
       "      <td>...</td>\n",
       "      <td>...</td>\n",
       "      <td>...</td>\n",
       "      <td>...</td>\n",
       "      <td>...</td>\n",
       "      <td>...</td>\n",
       "      <td>...</td>\n",
       "    </tr>\n",
       "    <tr>\n",
       "      <th>362565</th>\n",
       "      <td>26.67790</td>\n",
       "      <td>0.00000</td>\n",
       "      <td>0.471205</td>\n",
       "      <td>0.471205</td>\n",
       "      <td>172.3270</td>\n",
       "      <td>53.84450</td>\n",
       "      <td>109.4230</td>\n",
       "      <td>166.413000</td>\n",
       "      <td>187.8790</td>\n",
       "      <td>24.4496</td>\n",
       "      <td>1.0</td>\n",
       "      <td>211.0</td>\n",
       "      <td>0.972798</td>\n",
       "      <td>499.0</td>\n",
       "      <td>509.0</td>\n",
       "      <td>1.864850</td>\n",
       "      <td>1995.560</td>\n",
       "      <td>1995.559082</td>\n",
       "    </tr>\n",
       "    <tr>\n",
       "      <th>298251</th>\n",
       "      <td>16.94740</td>\n",
       "      <td>0.00000</td>\n",
       "      <td>0.283213</td>\n",
       "      <td>0.283213</td>\n",
       "      <td>148.3340</td>\n",
       "      <td>129.95000</td>\n",
       "      <td>170.1700</td>\n",
       "      <td>72.453400</td>\n",
       "      <td>122.1320</td>\n",
       "      <td>101.9280</td>\n",
       "      <td>1.0</td>\n",
       "      <td>124.0</td>\n",
       "      <td>0.311108</td>\n",
       "      <td>354.0</td>\n",
       "      <td>473.0</td>\n",
       "      <td>2.593070</td>\n",
       "      <td>1997.580</td>\n",
       "      <td>1997.579102</td>\n",
       "    </tr>\n",
       "    <tr>\n",
       "      <th>357938</th>\n",
       "      <td>64.53500</td>\n",
       "      <td>0.00000</td>\n",
       "      <td>0.370883</td>\n",
       "      <td>0.370883</td>\n",
       "      <td>190.1110</td>\n",
       "      <td>129.04200</td>\n",
       "      <td>195.1180</td>\n",
       "      <td>196.749000</td>\n",
       "      <td>260.4960</td>\n",
       "      <td>177.7240</td>\n",
       "      <td>1.0</td>\n",
       "      <td>322.0</td>\n",
       "      <td>1.602690</td>\n",
       "      <td>947.0</td>\n",
       "      <td>892.0</td>\n",
       "      <td>1.235820</td>\n",
       "      <td>1997.580</td>\n",
       "      <td>1997.579102</td>\n",
       "    </tr>\n",
       "    <tr>\n",
       "      <th>130401</th>\n",
       "      <td>21.87620</td>\n",
       "      <td>0.00000</td>\n",
       "      <td>0.439889</td>\n",
       "      <td>0.439889</td>\n",
       "      <td>194.5540</td>\n",
       "      <td>202.17200</td>\n",
       "      <td>229.1790</td>\n",
       "      <td>64.373600</td>\n",
       "      <td>131.7790</td>\n",
       "      <td>200.2690</td>\n",
       "      <td>1.0</td>\n",
       "      <td>116.0</td>\n",
       "      <td>0.236380</td>\n",
       "      <td>216.0</td>\n",
       "      <td>765.0</td>\n",
       "      <td>0.313064</td>\n",
       "      <td>1997.920</td>\n",
       "      <td>1997.917725</td>\n",
       "    </tr>\n",
       "    <tr>\n",
       "      <th>4142</th>\n",
       "      <td>5.31359</td>\n",
       "      <td>10.10710</td>\n",
       "      <td>0.601194</td>\n",
       "      <td>0.670618</td>\n",
       "      <td>167.9280</td>\n",
       "      <td>203.79400</td>\n",
       "      <td>145.9210</td>\n",
       "      <td>187.172000</td>\n",
       "      <td>118.0340</td>\n",
       "      <td>120.6140</td>\n",
       "      <td>1.0</td>\n",
       "      <td>20.0</td>\n",
       "      <td>4.776160</td>\n",
       "      <td>2.0</td>\n",
       "      <td>3.0</td>\n",
       "      <td>0.311906</td>\n",
       "      <td>1997.920</td>\n",
       "      <td>1997.917725</td>\n",
       "    </tr>\n",
       "  </tbody>\n",
       "</table>\n",
       "<p>6755 rows × 18 columns</p>\n",
       "</div>"
      ],
      "text/plain": [
       "            v[0]      v[1]      v[2]      v[3]      v[4]       v[5]      v[6]  \\\n",
       "14282    0.28499   3.14892  1.850860  0.393191   52.6928   40.42330   39.5912   \n",
       "219775   3.71440   0.00000  2.002930  2.002930   85.5209   24.55350   24.0221   \n",
       "302843   5.18890   0.00000  0.731363  0.731363  117.9590    3.46006  155.4280   \n",
       "70374    6.16174   0.00000  0.455881  0.455881  100.1040   87.22480   85.8626   \n",
       "280070   4.21296   0.00000  1.279220  1.279220   81.3125   72.25420  158.1910   \n",
       "...          ...       ...       ...       ...       ...        ...       ...   \n",
       "362565  26.67790   0.00000  0.471205  0.471205  172.3270   53.84450  109.4230   \n",
       "298251  16.94740   0.00000  0.283213  0.283213  148.3340  129.95000  170.1700   \n",
       "357938  64.53500   0.00000  0.370883  0.370883  190.1110  129.04200  195.1180   \n",
       "130401  21.87620   0.00000  0.439889  0.439889  194.5540  202.17200  229.1790   \n",
       "4142     5.31359  10.10710  0.601194  0.670618  167.9280  203.79400  145.9210   \n",
       "\n",
       "              v[7]      v[8]      v[9]  v[10]  v[11]     v[12]  v[13]  v[14]  \\\n",
       "14282     0.787409  103.7560   18.5160    1.0    1.0  0.151489    1.0    1.0   \n",
       "219775  144.026000   52.3162  110.8110    1.0  299.0  3.479390    6.0  220.0   \n",
       "302843  182.635000   21.2636   34.1255    1.0  601.0  4.922920   13.0  209.0   \n",
       "70374    73.418600   43.3046  136.3620    1.0  733.0  5.898810    7.0  257.0   \n",
       "280070   15.157600   20.8813   90.8563    1.0  441.0  3.987260    9.0  219.0   \n",
       "...            ...       ...       ...    ...    ...       ...    ...    ...   \n",
       "362565  166.413000  187.8790   24.4496    1.0  211.0  0.972798  499.0  509.0   \n",
       "298251   72.453400  122.1320  101.9280    1.0  124.0  0.311108  354.0  473.0   \n",
       "357938  196.749000  260.4960  177.7240    1.0  322.0  1.602690  947.0  892.0   \n",
       "130401   64.373600  131.7790  200.2690    1.0  116.0  0.236380  216.0  765.0   \n",
       "4142    187.172000  118.0340  120.6140    1.0   20.0  4.776160    2.0    3.0   \n",
       "\n",
       "           v[15]  true_energy  correct_true_energy  \n",
       "14282   0.133501      129.963           129.963470  \n",
       "219775  0.024965      129.963           129.963470  \n",
       "302843  0.011896      138.718           138.718475  \n",
       "70374   0.011714      138.718           138.718475  \n",
       "280070  0.016223      139.460           139.459991  \n",
       "...          ...          ...                  ...  \n",
       "362565  1.864850     1995.560          1995.559082  \n",
       "298251  2.593070     1997.580          1997.579102  \n",
       "357938  1.235820     1997.580          1997.579102  \n",
       "130401  0.313064     1997.920          1997.917725  \n",
       "4142    0.311906     1997.920          1997.917725  \n",
       "\n",
       "[6755 rows x 18 columns]"
      ]
     },
     "execution_count": 26,
     "metadata": {},
     "output_type": "execute_result"
    }
   ],
   "source": [
    "data[data.duplicated(subset='correct_true_energy', keep=False)].sort_values(by='correct_true_energy', ascending=True)"
   ]
  },
  {
   "cell_type": "code",
   "execution_count": 28,
   "metadata": {},
   "outputs": [],
   "source": [
    "data.drop(columns='true_energy').to_csv('./data/MuEloss_correct.asc', index=False, sep=' ', header=False)"
   ]
  },
  {
   "cell_type": "markdown",
   "metadata": {},
   "source": [
    "## Random things"
   ]
  },
  {
   "cell_type": "code",
   "execution_count": null,
   "metadata": {},
   "outputs": [],
   "source": [
    "pwd"
   ]
  },
  {
   "cell_type": "code",
   "execution_count": null,
   "metadata": {},
   "outputs": [],
   "source": [
    "data = pd.read_csv('./data/MuEloss_N396000_em0.1.asc', \n",
    "                   sep=\" \", header=None,\n",
    "                   names=[f'v[{i}]' for i in range(0, 16)] + ['true_energy'])"
   ]
  },
  {
   "cell_type": "code",
   "execution_count": null,
   "metadata": {},
   "outputs": [],
   "source": [
    "s = set(range(data.shape[0]))"
   ]
  },
  {
   "cell_type": "code",
   "execution_count": null,
   "metadata": {},
   "outputs": [],
   "source": [
    "len(s)"
   ]
  },
  {
   "cell_type": "code",
   "execution_count": null,
   "metadata": {},
   "outputs": [],
   "source": [
    "some_idxs = np.random.choice(data.index, size=1000)\n",
    "some_idxs.shape"
   ]
  },
  {
   "cell_type": "code",
   "execution_count": null,
   "metadata": {},
   "outputs": [],
   "source": [
    "s.difference_update(set(some_idxs))"
   ]
  },
  {
   "cell_type": "code",
   "execution_count": null,
   "metadata": {},
   "outputs": [],
   "source": [
    "len(s)"
   ]
  },
  {
   "cell_type": "code",
   "execution_count": null,
   "metadata": {},
   "outputs": [],
   "source": [
    "data.to_numpy()[list(({}))]"
   ]
  },
  {
   "cell_type": "code",
   "execution_count": null,
   "metadata": {},
   "outputs": [],
   "source": [
    "data_arr = data.to_numpy()"
   ]
  },
  {
   "cell_type": "code",
   "execution_count": null,
   "metadata": {},
   "outputs": [],
   "source": [
    "data_arr[np.isin(data_arr[:, -1], data_arr[:, -1][:15])][:,-1]"
   ]
  },
  {
   "cell_type": "code",
   "execution_count": null,
   "metadata": {},
   "outputs": [],
   "source": [
    "np.where(np.isin(data_arr[:,-1], 1957.78))[0]"
   ]
  },
  {
   "cell_type": "code",
   "execution_count": null,
   "metadata": {},
   "outputs": [],
   "source": []
  }
 ],
 "metadata": {
  "kernelspec": {
   "display_name": "Python [conda env:hep-lfi] *",
   "language": "python",
   "name": "conda-env-hep-lfi-py"
  },
  "language_info": {
   "codemirror_mode": {
    "name": "ipython",
    "version": 3
   },
   "file_extension": ".py",
   "mimetype": "text/x-python",
   "name": "python",
   "nbconvert_exporter": "python",
   "pygments_lexer": "ipython3",
   "version": "3.8.5"
  }
 },
 "nbformat": 4,
 "nbformat_minor": 4
}
